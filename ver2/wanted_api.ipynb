{
 "cells": [
  {
   "cell_type": "code",
   "execution_count": 1,
   "metadata": {},
   "outputs": [],
   "source": [
    "import pandas as pd\n",
    "import json\n",
    "from pprint import pprint\n",
    "\n",
    "from urllib import parse\n",
    "import simplejson, urllib\n",
    "import urllib.request"
   ]
  },
  {
   "cell_type": "code",
   "execution_count": 2,
   "metadata": {},
   "outputs": [],
   "source": [
    "search_keyword =\"\"\n",
    "\n",
    "def req_get_list(search_keyword):\n",
    "    target_url = parse.urlparse(f\"https://www.wanted.co.kr/api/v4/search/summary?&locations=all&job_sort=company.response_rate_order&years=-1&country=kr&query={search_keyword}\")\n",
    "    query = parse.parse_qs(target_url.query)\n",
    "    url_query = parse.urlencode(query, doseq=True)\n",
    "    result_url ='https://www.wanted.co.kr/api/v4/search/summary?&'+ url_query\n",
    "\n",
    "    r = simplejson.load(urllib.request.urlopen(result_url))\n",
    "    return r"
   ]
  },
  {
   "cell_type": "code",
   "execution_count": 3,
   "metadata": {},
   "outputs": [],
   "source": [
    "def binary_search_id_list(value,id_list):\n",
    "    sorted_id_list  = id_list.sort()\n",
    "    start = 0\n",
    "    last = len(sorted_id_list)\n",
    "    while(start<=last):\n",
    "        if(id_list[last//2] ==value):\n",
    "            return int(0)\n",
    "        if(id_list[last//2]>value):\n",
    "            last=id_list[last//2]-1\n",
    "        else:\n",
    "            start = id_list[last//2]+1\n",
    "    return int(1)\n"
   ]
  },
  {
   "cell_type": "code",
   "execution_count": 8,
   "metadata": {},
   "outputs": [],
   "source": [
    "def deduplicatesId_N_makeDf(key_word_list):\n",
    "    # 동적변수 할당해서 검색할 데이터를 나누어주고 이렇게 불러와준 id를 모아놓고 return \n",
    "    id_list=[]\n",
    "    company_name_list =[]\n",
    "    company_industry_list  =[]\n",
    "    position_list =[]\n",
    "    opt=1\n",
    "\n",
    "    for i,v in enumerate(key_word_list):\n",
    "        locals()[f\"r{str(i+1)}\"]= req_get_list(v)\n",
    "        if(len(id_list)>=0):\n",
    "            opt = binary_search_id_list(locals()[f\"r{str(i+1)}\"]['jobs']['data']['id'],id_list)\n",
    "\n",
    "        if(opt==1):\n",
    "            id_list.append(locals()[f\"r{str(i+1)}\"]['jobs']['data']['id'])    \n",
    "            company_name_list.append(locals()[f\"r{str(i+1)}\"]['jobs']['data']['company']['name'])\n",
    "            company_industry_list.append(locals()[f\"r{str(i+1)}\"]['jobs']['data']['company']['industry_name'])\n",
    "            position_list.append(locals()[f\"r{str(i+1)}\"]['jobs']['data']['position'])\n",
    "        else:\n",
    "            continue\n",
    "    \n",
    "    df = pd.DataFrame()\n",
    "    df['id'] = id_list \n",
    "    df['company_name'] = company_name_list\n",
    "    df['company_industry_name'] = company_industry_list\n",
    "    df['position'] = position_list\n",
    "\n",
    "    \n",
    "    \n",
    "    return df,id_list"
   ]
  },
  {
   "cell_type": "code",
   "execution_count": 5,
   "metadata": {},
   "outputs": [],
   "source": [
    "def req_get_jobcard(card_num,df):\n",
    "    job_card_url ='https://www.wanted.co.kr/api/v4/jobs/'+str(card_num)\n",
    "\n",
    "    r = simplejson.load(urllib.request.urlopen(job_card_url))\n",
    "\n",
    "    benefits = r['job']['detail']['benefits']\n",
    "    intro = r['job']['detail']['intro']\n",
    "    main_tasks = r['job']['detail']['main_tasks']\n",
    "    preferred_points = r['job']['detail']['preferred_points']\n",
    "    requirements = r['job']['detail']['requirements']\n",
    "\n",
    "    # row 데이터 저장\n",
    "    df.loc[df.shape[0]-1] = [requirements,preferred_points,main_tasks,intro,benefits]\n",
    "    \n",
    "    return df"
   ]
  },
  {
   "cell_type": "code",
   "execution_count": 9,
   "metadata": {},
   "outputs": [
    {
     "ename": "TypeError",
     "evalue": "list indices must be integers or slices, not str",
     "output_type": "error",
     "traceback": [
      "\u001b[1;31m---------------------------------------------------------------------------\u001b[0m",
      "\u001b[1;31mTypeError\u001b[0m                                 Traceback (most recent call last)",
      "\u001b[1;32mc:\\Users\\ybnt\\Desktop\\개인프로젝트\\job_scrap\\ver2\\wanted_api.ipynb Cell 6\u001b[0m in \u001b[0;36m<cell line: 5>\u001b[1;34m()\u001b[0m\n\u001b[0;32m      <a href='vscode-notebook-cell:/c%3A/Users/ybnt/Desktop/%EA%B0%9C%EC%9D%B8%ED%94%84%EB%A1%9C%EC%A0%9D%ED%8A%B8/job_scrap/ver2/wanted_api.ipynb#W5sZmlsZQ%3D%3D?line=0'>1</a>\u001b[0m card_num \u001b[39m=\u001b[39m \u001b[39m'\u001b[39m\u001b[39m'\u001b[39m\n\u001b[0;32m      <a href='vscode-notebook-cell:/c%3A/Users/ybnt/Desktop/%EA%B0%9C%EC%9D%B8%ED%94%84%EB%A1%9C%EC%A0%9D%ED%8A%B8/job_scrap/ver2/wanted_api.ipynb#W5sZmlsZQ%3D%3D?line=2'>3</a>\u001b[0m keyword \u001b[39m=\u001b[39m[\u001b[39m\"\u001b[39m\u001b[39m데이터 엔지니어\u001b[39m\u001b[39m\"\u001b[39m,\u001b[39m'\u001b[39m\u001b[39m데이터엔지니어\u001b[39m\u001b[39m'\u001b[39m,\u001b[39m'\u001b[39m\u001b[39mdata engineer\u001b[39m\u001b[39m'\u001b[39m,\u001b[39m'\u001b[39m\u001b[39mMLOps\u001b[39m\u001b[39m'\u001b[39m]\n\u001b[1;32m----> <a href='vscode-notebook-cell:/c%3A/Users/ybnt/Desktop/%EA%B0%9C%EC%9D%B8%ED%94%84%EB%A1%9C%EC%A0%9D%ED%8A%B8/job_scrap/ver2/wanted_api.ipynb#W5sZmlsZQ%3D%3D?line=4'>5</a>\u001b[0m company_df,search_list \u001b[39m=\u001b[39m deduplicatesId_N_makeDf(keyword)\n\u001b[0;32m      <a href='vscode-notebook-cell:/c%3A/Users/ybnt/Desktop/%EA%B0%9C%EC%9D%B8%ED%94%84%EB%A1%9C%EC%A0%9D%ED%8A%B8/job_scrap/ver2/wanted_api.ipynb#W5sZmlsZQ%3D%3D?line=8'>9</a>\u001b[0m job_detail \u001b[39m=\u001b[39m pd\u001b[39m.\u001b[39mDataFrame(columns\u001b[39m=\u001b[39m[\u001b[39m'\u001b[39m\u001b[39mrequirements\u001b[39m\u001b[39m'\u001b[39m,\u001b[39m'\u001b[39m\u001b[39mpreferred_points\u001b[39m\u001b[39m'\u001b[39m,\u001b[39m'\u001b[39m\u001b[39mmain_tasks\u001b[39m\u001b[39m'\u001b[39m,\u001b[39m'\u001b[39m\u001b[39mintro\u001b[39m\u001b[39m'\u001b[39m,\u001b[39m'\u001b[39m\u001b[39mbenefits\u001b[39m\u001b[39m'\u001b[39m])\n\u001b[0;32m     <a href='vscode-notebook-cell:/c%3A/Users/ybnt/Desktop/%EA%B0%9C%EC%9D%B8%ED%94%84%EB%A1%9C%EC%A0%9D%ED%8A%B8/job_scrap/ver2/wanted_api.ipynb#W5sZmlsZQ%3D%3D?line=9'>10</a>\u001b[0m \u001b[39mfor\u001b[39;00m num \u001b[39min\u001b[39;00m search_list:\n",
      "\u001b[1;32mc:\\Users\\ybnt\\Desktop\\개인프로젝트\\job_scrap\\ver2\\wanted_api.ipynb Cell 6\u001b[0m in \u001b[0;36mdeduplicatesId_N_makeDf\u001b[1;34m(key_word_list)\u001b[0m\n\u001b[0;32m     <a href='vscode-notebook-cell:/c%3A/Users/ybnt/Desktop/%EA%B0%9C%EC%9D%B8%ED%94%84%EB%A1%9C%EC%A0%9D%ED%8A%B8/job_scrap/ver2/wanted_api.ipynb#W5sZmlsZQ%3D%3D?line=9'>10</a>\u001b[0m \u001b[39mlocals\u001b[39m()[\u001b[39mf\u001b[39m\u001b[39m\"\u001b[39m\u001b[39mr\u001b[39m\u001b[39m{\u001b[39;00m\u001b[39mstr\u001b[39m(i\u001b[39m+\u001b[39m\u001b[39m1\u001b[39m)\u001b[39m}\u001b[39;00m\u001b[39m\"\u001b[39m]\u001b[39m=\u001b[39m req_get_list(v)\n\u001b[0;32m     <a href='vscode-notebook-cell:/c%3A/Users/ybnt/Desktop/%EA%B0%9C%EC%9D%B8%ED%94%84%EB%A1%9C%EC%A0%9D%ED%8A%B8/job_scrap/ver2/wanted_api.ipynb#W5sZmlsZQ%3D%3D?line=10'>11</a>\u001b[0m \u001b[39mif\u001b[39;00m(\u001b[39mlen\u001b[39m(id_list)\u001b[39m>\u001b[39m\u001b[39m=\u001b[39m\u001b[39m0\u001b[39m):\n\u001b[1;32m---> <a href='vscode-notebook-cell:/c%3A/Users/ybnt/Desktop/%EA%B0%9C%EC%9D%B8%ED%94%84%EB%A1%9C%EC%A0%9D%ED%8A%B8/job_scrap/ver2/wanted_api.ipynb#W5sZmlsZQ%3D%3D?line=11'>12</a>\u001b[0m     opt \u001b[39m=\u001b[39m binary_search_id_list(\u001b[39mlocals\u001b[39;49m()[\u001b[39mf\u001b[39;49m\u001b[39m\"\u001b[39;49m\u001b[39mr\u001b[39;49m\u001b[39m{\u001b[39;49;00m\u001b[39mstr\u001b[39;49m(i\u001b[39m+\u001b[39;49m\u001b[39m1\u001b[39;49m)\u001b[39m}\u001b[39;49;00m\u001b[39m\"\u001b[39;49m][\u001b[39m'\u001b[39;49m\u001b[39mjobs\u001b[39;49m\u001b[39m'\u001b[39;49m][\u001b[39m'\u001b[39;49m\u001b[39mdata\u001b[39;49m\u001b[39m'\u001b[39;49m][\u001b[39m'\u001b[39;49m\u001b[39mid\u001b[39;49m\u001b[39m'\u001b[39;49m],id_list)\n\u001b[0;32m     <a href='vscode-notebook-cell:/c%3A/Users/ybnt/Desktop/%EA%B0%9C%EC%9D%B8%ED%94%84%EB%A1%9C%EC%A0%9D%ED%8A%B8/job_scrap/ver2/wanted_api.ipynb#W5sZmlsZQ%3D%3D?line=13'>14</a>\u001b[0m \u001b[39mif\u001b[39;00m(opt\u001b[39m==\u001b[39m\u001b[39m1\u001b[39m):\n\u001b[0;32m     <a href='vscode-notebook-cell:/c%3A/Users/ybnt/Desktop/%EA%B0%9C%EC%9D%B8%ED%94%84%EB%A1%9C%EC%A0%9D%ED%8A%B8/job_scrap/ver2/wanted_api.ipynb#W5sZmlsZQ%3D%3D?line=14'>15</a>\u001b[0m     id_list\u001b[39m.\u001b[39mappend(\u001b[39mlocals\u001b[39m()[\u001b[39mf\u001b[39m\u001b[39m\"\u001b[39m\u001b[39mr\u001b[39m\u001b[39m{\u001b[39;00m\u001b[39mstr\u001b[39m(i\u001b[39m+\u001b[39m\u001b[39m1\u001b[39m)\u001b[39m}\u001b[39;00m\u001b[39m\"\u001b[39m][\u001b[39m'\u001b[39m\u001b[39mjobs\u001b[39m\u001b[39m'\u001b[39m][\u001b[39m'\u001b[39m\u001b[39mdata\u001b[39m\u001b[39m'\u001b[39m][\u001b[39m'\u001b[39m\u001b[39mid\u001b[39m\u001b[39m'\u001b[39m])    \n",
      "\u001b[1;31mTypeError\u001b[0m: list indices must be integers or slices, not str"
     ]
    }
   ],
   "source": [
    "card_num = ''\n",
    "\n",
    "keyword =[\"데이터 엔지니어\",'데이터엔지니어','data engineer','MLOps']\n",
    "\n",
    "company_df,search_list = deduplicatesId_N_makeDf(keyword)\n",
    "\n",
    "\n",
    "\n",
    "job_detail = pd.DataFrame(columns=['requirements','preferred_points','main_tasks','intro','benefits'])\n",
    "for num in search_list:\n",
    "    job_detail = req_get_jobcard(num,job_detail)\n",
    "\n",
    "\n",
    "print(company_df)\n",
    "print(job_detail)\n"
   ]
  },
  {
   "cell_type": "code",
   "execution_count": 7,
   "metadata": {},
   "outputs": [
    {
     "data": {
      "text/plain": [
       "[]"
      ]
     },
     "execution_count": 7,
     "metadata": {},
     "output_type": "execute_result"
    }
   ],
   "source": [
    "search_list"
   ]
  },
  {
   "cell_type": "code",
   "execution_count": null,
   "metadata": {},
   "outputs": [],
   "source": []
  }
 ],
 "metadata": {
  "kernelspec": {
   "display_name": "job_scrap",
   "language": "python",
   "name": "python3"
  },
  "language_info": {
   "codemirror_mode": {
    "name": "ipython",
    "version": 3
   },
   "file_extension": ".py",
   "mimetype": "text/x-python",
   "name": "python",
   "nbconvert_exporter": "python",
   "pygments_lexer": "ipython3",
   "version": "3.8.13"
  },
  "orig_nbformat": 4,
  "vscode": {
   "interpreter": {
    "hash": "66a0702b13bee09f21c58a8aea0279bdc089e12009c13e9514313e5234757a57"
   }
  }
 },
 "nbformat": 4,
 "nbformat_minor": 2
}
